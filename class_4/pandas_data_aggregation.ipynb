{
 "cells": [
  {
   "cell_type": "code",
   "execution_count": null,
   "id": "e9c9d5e5",
   "metadata": {},
   "outputs": [],
   "source": [
    "import pandas as pd"
   ]
  },
  {
   "cell_type": "markdown",
   "id": "832c54a4",
   "metadata": {},
   "source": [
    "## Part 1 - Dealing with Null Data"
   ]
  },
  {
   "cell_type": "code",
   "execution_count": null,
   "id": "ac8c3359",
   "metadata": {},
   "outputs": [],
   "source": [
    "df_SAFI = pd.read_csv(\"SAFI_results.csv\")"
   ]
  },
  {
   "cell_type": "code",
   "execution_count": null,
   "id": "f2896b32",
   "metadata": {},
   "outputs": [],
   "source": [
    "df_SAFI.head()"
   ]
  },
  {
   "cell_type": "code",
   "execution_count": null,
   "id": "49740b15",
   "metadata": {},
   "outputs": [],
   "source": [
    "#Removing a column from a dataframe\n",
    "\n",
    "df_SAFI.drop([\"Column1\"], axis='columns')"
   ]
  },
  {
   "cell_type": "code",
   "execution_count": null,
   "id": "108fc38c",
   "metadata": {},
   "outputs": [],
   "source": [
    "#Removing a row from a dataframe\n",
    "\n",
    "df_SAFI.drop([4], axis='index')"
   ]
  },
  {
   "cell_type": "code",
   "execution_count": null,
   "id": "b6d50439",
   "metadata": {},
   "outputs": [],
   "source": [
    "#Find the number of null (NaN) values for each column in a dataframe\n",
    "\n",
    "df_SAFI.isnull().sum()"
   ]
  },
  {
   "cell_type": "code",
   "execution_count": null,
   "id": "db946e6c",
   "metadata": {},
   "outputs": [],
   "source": [
    "#Find the number of null values for a particular column\n",
    "\n",
    "df_SAFI = pd.read_csv(\"SAFI_results.csv\") #Re-reading full CSV to re-insert dropped data into dataframe\n",
    "\n",
    "df_SAFI['E19_period_use'].isnull().sum()"
   ]
  },
  {
   "cell_type": "code",
   "execution_count": null,
   "id": "262f271a",
   "metadata": {},
   "outputs": [],
   "source": [
    "#Find the number of rows and columns in a dataframe\n",
    "\n",
    "df_SAFI = pd.read_csv(\"SAFI_results.csv\")\n",
    "df_SAFI.shape\n"
   ]
  },
  {
   "cell_type": "code",
   "execution_count": null,
   "id": "dddfbbf7",
   "metadata": {},
   "outputs": [],
   "source": [
    "#Use dropna() to remove ALL rows that contain null values in a dataframe\n",
    "\n",
    "df_SAFI.dropna(inplace=True)\n",
    "print(df_SAFI.shape)"
   ]
  },
  {
   "cell_type": "code",
   "execution_count": null,
   "id": "3aab910a",
   "metadata": {},
   "outputs": [],
   "source": [
    "#Use dropna() to remove all columns with NaN values\n",
    "\n",
    "df_SAFI = pd.read_csv(\"SAFI_results.csv\")\n",
    "\n",
    "df_SAFI.dropna(inplace=True, axis=\"columns\")\n",
    "print(df_SAFI.shape)"
   ]
  },
  {
   "cell_type": "code",
   "execution_count": null,
   "id": "004ca21f",
   "metadata": {},
   "outputs": [],
   "source": [
    "#Use dropna() to remove rows in a dataframe that have Nan values in a particular column\n",
    "\n",
    "df_SAFI = pd.read_csv(\"SAFI_results.csv\")\n",
    "\n",
    "df_SAFI = df_SAFI[(df_SAFI['E_no_group_count'].notnull())]\n",
    "print(df_SAFI.shape)"
   ]
  },
  {
   "cell_type": "code",
   "execution_count": null,
   "id": "fdf9b8f6",
   "metadata": {},
   "outputs": [],
   "source": [
    "#Using describe to count how many values in a column that have values (non-null)\n",
    "\n",
    "df_SAFI = pd.read_csv(\"SAFI_results.csv\")\n",
    "\n",
    "df_SAFI['E19_period_use'].describe()"
   ]
  },
  {
   "cell_type": "code",
   "execution_count": null,
   "id": "0d4e089b",
   "metadata": {},
   "outputs": [],
   "source": [
    "#Replacing the NaN values with 0 (notice how total values count goes up, affecting statistical calculations)\n",
    "\n",
    "df_SAFI['E19_period_use'].fillna(0, inplace=True)\n",
    "df_SAFI['E19_period_use'].describe()"
   ]
  },
  {
   "cell_type": "code",
   "execution_count": null,
   "id": "5d606bd0",
   "metadata": {},
   "outputs": [],
   "source": [
    "#Exercise 1:\n",
    "\n",
    "df_SAFI_subset = df_SAFI[[\"C01_respondent_roof_type\", \"C02_respondent_wall_type\", \"C02_respondent_wall_type_other\", \"C03_respondent_floor_type\"]]\n",
    "\n",
    "\n",
    "col_no = len(df_SAFI_subset.columns)\n",
    "row_no = len(df_SAFI_subset.index)\n",
    "\n",
    "total_cells = col_no * row_no\n",
    "    \n",
    "null_cells = 0\n",
    "\n",
    "for x in df_SAFI_subset.isnull().sum():\n",
    "    null_cells += x\n",
    "\n",
    "percentage_null = ((null_cells/total_cells) * 100)\n",
    "\n",
    "print(percentage_null)\n"
   ]
  },
  {
   "cell_type": "markdown",
   "id": "a73f356e",
   "metadata": {},
   "source": [
    "## Part 2 - Grouping and Aggregating data"
   ]
  },
  {
   "cell_type": "code",
   "execution_count": null,
   "id": "fa5064cc",
   "metadata": {},
   "outputs": [],
   "source": [
    "#Print the unique values in a column\n",
    "\n",
    "\n",
    "pd.unique(df_SAFI['C01_respondent_roof_type'])"
   ]
  },
  {
   "cell_type": "code",
   "execution_count": null,
   "id": "4d76e7d8",
   "metadata": {},
   "outputs": [],
   "source": [
    "#Aggregate statistics about each unique value in a particular column\n",
    "\n",
    "grouped_data = df_SAFI.groupby('C01_respondent_roof_type')\n",
    "grouped_data.describe()"
   ]
  },
  {
   "cell_type": "code",
   "execution_count": null,
   "id": "76c9c6c2",
   "metadata": {},
   "outputs": [],
   "source": [
    "#Group by multiple column values\n",
    "\n",
    "grouped_data = df_SAFI.groupby(['C03_respondent_floor_type','C01_respondent_roof_type', 'C02_respondent_wall_type'])\n",
    "grouped_data.describe()"
   ]
  },
  {
   "cell_type": "code",
   "execution_count": null,
   "id": "5c49bb01",
   "metadata": {},
   "outputs": [],
   "source": [
    "#Generate summary statistics about aggregated data\n",
    "\n",
    "A11_years_farm = df_SAFI.groupby(['C01_respondent_roof_type', 'C02_respondent_wall_type'])['A11_years_farm'].count()\n",
    "A11_years_farm"
   ]
  },
  {
   "cell_type": "markdown",
   "id": "28000470",
   "metadata": {},
   "source": [
    "## Exercise 2"
   ]
  },
  {
   "cell_type": "code",
   "execution_count": null,
   "id": "3799aefc",
   "metadata": {},
   "outputs": [],
   "source": [
    "#Exercise 2 Part 1-2 (Read in the SAFI_results.csv dataset. Get a list of the different C01_respondent_roof_type values.)\n",
    "\n",
    "import numpy as np\n",
    "df_SAFI = pd.read_csv(\"SAFI_results.csv\")\n",
    "print(pd.unique(df_SAFI['C01_respondent_roof_type']))"
   ]
  },
  {
   "cell_type": "code",
   "execution_count": null,
   "id": "91e580fb",
   "metadata": {},
   "outputs": [],
   "source": [
    "#Exercise 2 Part 3 (Groupby C01_respondent_roof_type and describe the results.)\n",
    "grouped_data = df_SAFI.groupby('C01_respondent_roof_type')\n",
    "grouped_data.describe()"
   ]
  },
  {
   "cell_type": "code",
   "execution_count": null,
   "id": "18a0e71b",
   "metadata": {},
   "outputs": [],
   "source": [
    "#Exercise 2 Part 4-5: Remove rows with NULL values for E_no_group_count, and repeat steps 2 & 3 and compare the results.\n",
    "\n",
    "\n",
    "df_SAFI = df_SAFI[(df_SAFI['E_no_group_count'].notnull())]\n",
    "\n",
    "grouped_data = df_SAFI.groupby('C01_respondent_roof_type') \n",
    "\n",
    "print(pd.unique(df_SAFI['C01_respondent_roof_type'])) \n",
    "grouped_data.describe()\n",
    "\n"
   ]
  },
  {
   "cell_type": "markdown",
   "id": "f136307d",
   "metadata": {},
   "source": [
    "## Part 3 - Combining Dataframes"
   ]
  },
  {
   "cell_type": "code",
   "execution_count": null,
   "id": "4fc4d817",
   "metadata": {},
   "outputs": [],
   "source": [
    "import pandas as pd\n",
    "\n",
    "df_a = pd.read_csv(\"SN7577i_a.csv\")\n",
    "df_b = pd.read_csv(\"SN7577i_b.csv\")"
   ]
  },
  {
   "cell_type": "code",
   "execution_count": null,
   "id": "02fafe65",
   "metadata": {},
   "outputs": [],
   "source": [
    "df_a.head()"
   ]
  },
  {
   "cell_type": "code",
   "execution_count": null,
   "id": "8ec1147f",
   "metadata": {},
   "outputs": [],
   "source": [
    "df_b.head()"
   ]
  },
  {
   "cell_type": "code",
   "execution_count": null,
   "id": "cb63edbf",
   "metadata": {},
   "outputs": [],
   "source": [
    "#Using concat to join rows\n",
    "\n",
    "df_all_rows = pd.concat([df_a, df_b])\n",
    "df_all_rows"
   ]
  },
  {
   "cell_type": "code",
   "execution_count": null,
   "id": "f885aac9",
   "metadata": {},
   "outputs": [],
   "source": [
    "# Using reset_index to replace the index with a defulat numerical index\n",
    "\n",
    "df_all_rows=df_all_rows.reset_index(drop=True)\n",
    "df_all_rows"
   ]
  },
  {
   "cell_type": "code",
   "execution_count": null,
   "id": "2a5e07a6",
   "metadata": {},
   "outputs": [],
   "source": [
    "#Generate summary statistics of the concatenated dataframe\n",
    "\n",
    "df_all_rows.describe()"
   ]
  },
  {
   "cell_type": "code",
   "execution_count": null,
   "id": "4d69a6cf",
   "metadata": {},
   "outputs": [],
   "source": [
    "#Using concat to join columns\n",
    "\n",
    "df_all_columns = pd.concat([df_a, df_b], axis=1)\n",
    "df_all_columns"
   ]
  },
  {
   "cell_type": "code",
   "execution_count": null,
   "id": "9c24c9aa",
   "metadata": {},
   "outputs": [],
   "source": [
    "df_aa = pd.read_csv(\"SN7577i_aa.csv\")\n",
    "df_bb = pd.read_csv(\"SN7577i_bb.csv\")"
   ]
  },
  {
   "cell_type": "code",
   "execution_count": null,
   "id": "f4d5cb15",
   "metadata": {},
   "outputs": [],
   "source": [
    "df_aa.columns.values"
   ]
  },
  {
   "cell_type": "code",
   "execution_count": null,
   "id": "3512cf40",
   "metadata": {},
   "outputs": [],
   "source": [
    "df_bb.columns.values"
   ]
  },
  {
   "cell_type": "code",
   "execution_count": null,
   "id": "0fb8cc15",
   "metadata": {},
   "outputs": [],
   "source": [
    "#Concatenating dataframes with different columns\n",
    "\n",
    "df_all_rows_2 = pd.concat([df_aa, df_bb])\n",
    "df_all_rows_2"
   ]
  },
  {
   "cell_type": "code",
   "execution_count": null,
   "id": "cae842e1",
   "metadata": {},
   "outputs": [],
   "source": [
    "# Merging dataframes\n",
    "\n",
    "df_c = pd.read_csv(\"SN7577i_c.csv\")\n",
    "df_d = pd.read_csv(\"SN7577i_d.csv\")\n",
    "\n",
    "print(df_c)\n",
    "print(df_d)\n",
    "\n",
    "df_cd = pd.merge(df_c, df_d, how='inner', on='Id')\n",
    "df_cd"
   ]
  },
  {
   "cell_type": "code",
   "execution_count": null,
   "id": "9103a8e8",
   "metadata": {},
   "outputs": [],
   "source": [
    "#Exercise 3\n",
    "\n",
    "df_aabb = pd.merge(df_aa, df_bb, how='outer', on = 'Id')\n",
    "df_aabb"
   ]
  },
  {
   "cell_type": "code",
   "execution_count": null,
   "id": "0185902a",
   "metadata": {},
   "outputs": [],
   "source": []
  }
 ],
 "metadata": {
  "kernelspec": {
   "display_name": "Python 3 (ipykernel)",
   "language": "python",
   "name": "python3"
  },
  "language_info": {
   "codemirror_mode": {
    "name": "ipython",
    "version": 3
   },
   "file_extension": ".py",
   "mimetype": "text/x-python",
   "name": "python",
   "nbconvert_exporter": "python",
   "pygments_lexer": "ipython3",
   "version": "3.9.7"
  }
 },
 "nbformat": 4,
 "nbformat_minor": 5
}
