{
 "cells": [
  {
   "cell_type": "code",
   "execution_count": null,
   "id": "f778c307",
   "metadata": {},
   "outputs": [],
   "source": [
    "import pandas as pd\n",
    "import matplotlib\n",
    "import matplotlib.pyplot as plt\n",
    "%matplotlib inline"
   ]
  },
  {
   "cell_type": "markdown",
   "id": "d47edac8",
   "metadata": {},
   "source": [
    "## Demo One: Basic Plotting with Pandas, Matplotlib and Seaborn"
   ]
  },
  {
   "cell_type": "code",
   "execution_count": null,
   "id": "96473f35",
   "metadata": {},
   "outputs": [],
   "source": [
    "df = pd.read_csv(\"SAFI_full_shortname.csv\")\n",
    "df.head()"
   ]
  },
  {
   "cell_type": "code",
   "execution_count": null,
   "id": "0af70c94",
   "metadata": {},
   "outputs": [],
   "source": [
    "df.columns.values"
   ]
  },
  {
   "cell_type": "code",
   "execution_count": null,
   "id": "d2f83013",
   "metadata": {},
   "outputs": [],
   "source": [
    "df['remittance_money']"
   ]
  },
  {
   "cell_type": "code",
   "execution_count": null,
   "id": "ca486f46",
   "metadata": {},
   "outputs": [],
   "source": [
    "#Generate a histogram with column values along the x-axis\n",
    "\n",
    "df['years_liv'].hist()\n"
   ]
  },
  {
   "cell_type": "code",
   "execution_count": null,
   "id": "c9e6c5b2",
   "metadata": {},
   "outputs": [],
   "source": [
    "#Specify number of bars in the histogram\n",
    "\n",
    "df['years_liv'].hist(bins=20)\n"
   ]
  },
  {
   "cell_type": "code",
   "execution_count": null,
   "id": "d835f4de",
   "metadata": {},
   "outputs": [],
   "source": [
    "#Generate a histogram with vales from the years_liv column, grouped by village. The layout and fig size parameters specifies how the graphs should be presented.\n",
    "\n",
    "df.hist(column='years_liv',by='village',layout = (1,3), figsize=(12,3), sharex=True)"
   ]
  },
  {
   "cell_type": "code",
   "execution_count": null,
   "id": "f2e24043",
   "metadata": {},
   "outputs": [],
   "source": [
    "#Generate a scatterplot (c paramater indicates color, cmap the color theme)\n",
    "\n",
    "df.plot.scatter(x='gps_Latitude', y='gps_Longitude', c='gps_Altitude', cmap=\"viridis\", figsize=[4,4])"
   ]
  },
  {
   "cell_type": "code",
   "execution_count": null,
   "id": "6a509cb4",
   "metadata": {},
   "outputs": [],
   "source": [
    "#Generate a bar graph based on aggregated data\n",
    "\n",
    "rooms_mean = df.groupby('respondent_roof_type')['members_count'].mean()\n",
    "rooms_mean.plot.bar(color=\"purple\", ylabel=\"Inhabitants\", xlabel=\"Roof Types\", title=\"Inhabitants Per Roof Type\")\n"
   ]
  },
  {
   "cell_type": "code",
   "execution_count": null,
   "id": "2dac8133",
   "metadata": {},
   "outputs": [],
   "source": [
    "#Generate a boxplot of the numbers of buildings, grouped by village\n",
    "\n",
    "df.boxplot(by ='village',column=['buildings_in_compound'], figsize=(5,5))"
   ]
  },
  {
   "cell_type": "code",
   "execution_count": null,
   "id": "369d94c8",
   "metadata": {},
   "outputs": [],
   "source": [
    "#Use the Seaborn library to make a prettier box plot automatically\n",
    "\n",
    "import seaborn as sns\n",
    "sns.boxplot(data = df, x = 'village', y = 'buildings_in_compound')"
   ]
  },
  {
   "cell_type": "code",
   "execution_count": null,
   "id": "5923080f",
   "metadata": {},
   "outputs": [],
   "source": [
    "#Use Seaborn to create a scatterplot with linear regression\n",
    "\n",
    "sns.lmplot(x='years_farm', y='years_liv',data=df,hue='village')"
   ]
  },
  {
   "cell_type": "markdown",
   "id": "288c1f65",
   "metadata": {},
   "source": [
    "## Exercise One"
   ]
  },
  {
   "cell_type": "code",
   "execution_count": null,
   "id": "fde060bc",
   "metadata": {},
   "outputs": [],
   "source": [
    "df.plot.scatter(x = 'years_liv', y = 'years_farm', c = 'buildings_in_compound', colormap = 'viridis')"
   ]
  },
  {
   "cell_type": "code",
   "execution_count": null,
   "id": "19e64f6c",
   "metadata": {},
   "outputs": [],
   "source": [
    "colors = [\"pink\", \"red\", \"green\", \"orange\"]\n",
    "rooms_mean = df.groupby('respondent_wall_type')['rooms'].mean()\n",
    "rooms_mean.plot.bar(color=colors)"
   ]
  },
  {
   "cell_type": "code",
   "execution_count": null,
   "id": "6560909d",
   "metadata": {},
   "outputs": [],
   "source": [
    "#Use Seaborn to create a scatterplot with linear regression\n",
    "\n",
    "sns.lmplot(x='no_plots', y='liv_count',data=df)"
   ]
  },
  {
   "cell_type": "markdown",
   "id": "b5aa5b4a",
   "metadata": {},
   "source": [
    "## Demo Two: Further Customization of Plots"
   ]
  },
  {
   "cell_type": "code",
   "execution_count": null,
   "id": "0f1392dc",
   "metadata": {},
   "outputs": [],
   "source": [
    "#Create a random dataset using NumPy\n",
    "\n",
    "import numpy as np\n",
    "\n",
    "# Generate some date for 2 sets of points.\n",
    "x1 = pd.Series(np.random.rand(20) - 0.5)\n",
    "y1 = pd.Series(np.random.rand(20) - 0.5)\n",
    "\n",
    "x2 = pd.Series(np.random.rand(20) + 0.5)\n",
    "y2 = pd.Series(np.random.rand(20) + 0.5)\n",
    "\n"
   ]
  },
  {
   "cell_type": "code",
   "execution_count": null,
   "id": "da58a569",
   "metadata": {},
   "outputs": [],
   "source": [
    "\n",
    "\n",
    "# Create an empty plot with our title, y and x axis labels\n",
    "plt.title('Scatter Plot')\n",
    "plt.ylabel('Range of y values')\n",
    "plt.xlabel('Range of x values')\n",
    "\n",
    "\n",
    "# Plot the points in a scatter plot and add a legend\n",
    "plt.scatter(x1, y1, c='red', label='Red Range')  \n",
    "plt.scatter(x2, y2, c='blue', label='Blue Range')\n",
    "\n",
    "plt.legend(loc=\"lower right\")  \n"
   ]
  },
  {
   "cell_type": "code",
   "execution_count": null,
   "id": "dd2e3617",
   "metadata": {},
   "outputs": [],
   "source": [
    "#Adjust size and opacity of the dots\n",
    "\n",
    "plt.scatter(x1, y1, c='red', label='Red Range', s=10, alpha=0.5)\n",
    "plt.scatter(x2, y2, c='blue', label='Blue Range', s=100, alpha=0.5)\n",
    "\n",
    "  \n",
    "\n"
   ]
  },
  {
   "cell_type": "code",
   "execution_count": null,
   "id": "3a535612",
   "metadata": {},
   "outputs": [],
   "source": [
    "df.boxplot(column = 'buildings_in_compound', by = 'village', figsize = (5,5))"
   ]
  },
  {
   "cell_type": "code",
   "execution_count": null,
   "id": "7443b202",
   "metadata": {},
   "outputs": [],
   "source": [
    "df.boxplot(column = 'buildings_in_compound', by = 'village', figsize = (5,5)) \n",
    "plt.suptitle(None) # remove the automatic title\n",
    "plt.title('Buildings in compounds per village')   \n",
    "plt.ylabel('Number of buildings')   \n",
    "plt.xlabel(None)   \n",
    "plt.grid(None)  "
   ]
  },
  {
   "cell_type": "code",
   "execution_count": null,
   "id": "5b3ca66e",
   "metadata": {},
   "outputs": [],
   "source": [
    "\n",
    "\n",
    "df.boxplot(column = 'buildings_in_compound', by = 'village')\n",
    "plt.suptitle(None) \n",
    "plt.title('Buildings in compounds per village')   \n",
    "plt.ylabel('Number of buildings')  \n",
    "plt.xlabel(None) \n",
    "plt.grid(None) \n",
    "\n",
    "#Saving graph as a pdf or png file\n",
    "plt.savefig('safi_boxplot_buildings.pdf')   # save as pdf file\n",
    "plt.savefig('safi_boxplot_buildings.png', dpi = 150)  # save as png file, some extra arguments are provided"
   ]
  },
  {
   "cell_type": "markdown",
   "id": "b9816a79",
   "metadata": {},
   "source": [
    "## Exercise Two"
   ]
  },
  {
   "cell_type": "code",
   "execution_count": null,
   "id": "520742e9",
   "metadata": {},
   "outputs": [],
   "source": [
    "#Exercise 2 Solution\n",
    "\n",
    "import pandas as pd\n",
    "import matplotlib.pyplot as plt\n",
    "\n",
    "data = {\n",
    "    'car': ['Toyota', 'Honda', 'Ford', 'Chevrolet', 'BMW', 'Tesla', 'Audi'],\n",
    "    'horsepower': [150, 120, 170, 200, 250, 300, 180],\n",
    "    'mpg': [30, 35, 25, 20, 18, 15, 22]}\n",
    "\n",
    "df2 = pd.DataFrame(data)\n",
    "\n",
    "plt.scatter(df2['horsepower'], df2['mpg'], c='pink', s=100)\n",
    "plt.xlabel('Horsepower')\n",
    "plt.ylabel('MPG')\n",
    "plt.title('Horsepower vs MPG')\n",
    "plt.savefig('horsepower.png')\n"
   ]
  },
  {
   "cell_type": "code",
   "execution_count": null,
   "id": "d1534d48",
   "metadata": {},
   "outputs": [],
   "source": []
  }
 ],
 "metadata": {
  "celltoolbar": "Raw Cell Format",
  "kernelspec": {
   "display_name": "Python 3 (ipykernel)",
   "language": "python",
   "name": "python3"
  },
  "language_info": {
   "codemirror_mode": {
    "name": "ipython",
    "version": 3
   },
   "file_extension": ".py",
   "mimetype": "text/x-python",
   "name": "python",
   "nbconvert_exporter": "python",
   "pygments_lexer": "ipython3",
   "version": "3.9.7"
  }
 },
 "nbformat": 4,
 "nbformat_minor": 5
}
