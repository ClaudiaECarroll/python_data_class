{
 "cells": [
  {
   "cell_type": "code",
   "execution_count": null,
   "id": "cd11bad1",
   "metadata": {},
   "outputs": [],
   "source": [
    "#Opening and printing the contents of a csv file\n",
    "\n",
    "with open(\"SAFI_results.csv\") as f:     \n",
    "    for line in f:\n",
    "        print(line)  \n",
    "        \n",
    "print(\"I'm on to something else now.\") "
   ]
  },
  {
   "cell_type": "code",
   "execution_count": null,
   "id": "58a93b6b",
   "metadata": {},
   "outputs": [],
   "source": [
    "#opening and printing a specific column in a csv file using indices\n",
    "\n",
    "with open (\"SAFI_results.csv\") as f:  \n",
    "                                      \n",
    "    #f.readline()                     #readline() or next can be used to skip the first line in the file, in this case the header row\n",
    "    next(f)                           \n",
    "\n",
    "    for line in f:\n",
    "        print(line.split(\",\")[18])    # Index 18, the 19th column is C01_respondent_roof_type."
   ]
  },
  {
   "cell_type": "code",
   "execution_count": null,
   "id": "1631953c",
   "metadata": {},
   "outputs": [],
   "source": [
    "#Creating and setting at 0 variables to count each kind of roof in the csv file\n",
    "\n",
    "grass_roof = 0\n",
    "mabatisloping_roof = 0\n",
    "mabatipitched_roof = 0\n",
    "roof_type_other = 0"
   ]
  },
  {
   "cell_type": "code",
   "execution_count": null,
   "id": "202f6a51",
   "metadata": {},
   "outputs": [],
   "source": [
    "#Using conditionals to count each roof type in the file\n",
    "\n",
    "with open (\"SAFI_results.csv\") as f:\n",
    "\n",
    "    f.readline()\n",
    "    \n",
    "    for line in f:\n",
    "\n",
    "        roof_type = line.split(\",\")[18]\n",
    "\n",
    "        if roof_type == 'grass':\n",
    "            grass_roof += 1\n",
    "        elif roof_type == 'mabatisloping':\n",
    "            mabatisloping_roof += 1\n",
    "        elif roof_type == 'mabatipitched':\n",
    "            mabatipitched_roof += 1\n",
    "        else:\n",
    "            roof_type_other += 1"
   ]
  },
  {
   "cell_type": "code",
   "execution_count": null,
   "id": "66c8fc81",
   "metadata": {},
   "outputs": [],
   "source": [
    "#Printing each type of roof and their counts\n",
    "\n",
    "print(\"There are \", grass_roof, \" grass roofs\")\n",
    "print(\"There are \", mabatisloping_roof, \" mabatisloping roofs\")\n",
    "print(\"There are \", mabatipitched_roof, \" mabatipitchedg roofs\")\n",
    "print(\"There are \", roof_type_other, \" other roof types\")"
   ]
  },
  {
   "cell_type": "code",
   "execution_count": null,
   "id": "c3427833",
   "metadata": {},
   "outputs": [],
   "source": [
    "#Extracting out each line of the csv that has the roof type 'grass' and printing it to a new csv file.\n",
    "\n",
    "with open (\"SAFI_results.csv\") as fr:              # Note how we have used a new variable name, 'fr'.\n",
    "                                                   \n",
    "    with open (\"SAFI_grass_roof.csv\", \"w\") as fw:  \n",
    "                                                   # We specify a second parameter, \"w\" to make this file writeable.\n",
    "                                                   \n",
    "        for line in fr:\n",
    "  \n",
    "            if line.split(\",\")[18] == 'grass':\n",
    "                fw.write(line)                     # Be careful to write to fw, not fr, as you may overwrite the initial csv and lose your data!"
   ]
  },
  {
   "cell_type": "code",
   "execution_count": null,
   "id": "0a858c8f",
   "metadata": {},
   "outputs": [],
   "source": [
    "#Exercise 1: From the SAFI_results.csv file extract all of the records where the C01_respondent_roof_type (index 18) has a value of 'grass' and the C02_respondent_wall_type (index 19) has a value of 'muddaub' and write them to a file. Within the same program write all of the records where C01_respondent_roof_type (index 18) has a value of 'grass' and the C02_respondent_wall_type (index 19) has a value of 'burntbricks' and write them to a separate file. In both files include the header record.\n",
    "\n",
    "with open (\"SAFI_results.csv\") as fr:\n",
    "\n",
    "   with open (\"SAFI_grass_roof_muddaub.csv\", \"w\") as fw1:\n",
    "      with open (\"SAFI_grass_roof_burntbricks.csv\", \"w\") as fw2:\n",
    "\n",
    "          headerline = fr.readline()\n",
    "          fw1.write(headerline)\n",
    "          fw2.write(headerline)\n",
    "\n",
    "          for line in fr:\n",
    "              if line.split(\",\")[18] == 'grass' :\n",
    "                  if line.split(\",\")[19] == 'muddaub' :\n",
    "                      fw1.write(line)\n",
    "                  if line.split(\",\")[19] == 'burntbricks' :\n",
    "                      fw2.write(line)  "
   ]
  },
  {
   "cell_type": "code",
   "execution_count": null,
   "id": "20dbdbef",
   "metadata": {},
   "outputs": [],
   "source": []
  }
 ],
 "metadata": {
  "kernelspec": {
   "display_name": "Python 3 (ipykernel)",
   "language": "python",
   "name": "python3"
  },
  "language_info": {
   "codemirror_mode": {
    "name": "ipython",
    "version": 3
   },
   "file_extension": ".py",
   "mimetype": "text/x-python",
   "name": "python",
   "nbconvert_exporter": "python",
   "pygments_lexer": "ipython3",
   "version": "3.9.7"
  }
 },
 "nbformat": 4,
 "nbformat_minor": 5
}
